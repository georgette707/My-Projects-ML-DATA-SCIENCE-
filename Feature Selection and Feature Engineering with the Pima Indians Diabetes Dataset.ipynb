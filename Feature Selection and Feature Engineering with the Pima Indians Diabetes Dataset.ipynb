{
  "cells": [
    {
      "cell_type": "markdown",
      "metadata": {
        "id": "C2_Q8L08QHwA"
      },
      "source": [
        "# Feature Selection and Feature Engineering with the Pima Indians Diabetes Dataset\n",
        "\n",
        "**Description:**\n",
        "This notebook covers feature selection and feature engineering techniques applied to the Pima Indians Diabetes dataset using Python libraries like Pandas, Scikit-learn, and NumPy. The dataset contains several medical predictor variables and one target variable that indicates whether or not a patient has diabetes.\n",
        "\n",
        "The dataset can be found on the Kaggle website: https://www.kaggle.com/datasets/uciml/pima-indians-diabetes-database\n",
        "\n",
        "## Sections:\n",
        "1. Loading and Exploring the Dataset\n",
        "2. Handling Missing Values\n",
        "3. Feature Engineering\n",
        "4. Feature Selection\n",
        "5. Model Building for Comparison\n"
      ],
      "id": "C2_Q8L08QHwA"
    },
    {
      "cell_type": "code",
      "source": [
        "# This command installs the 'ydata-profiling' library, which is used to generate comprehensive data profiles.\n",
        "# It helps in quickly understanding the structure and quality of your dataset by providing detailed reports.\n",
        "\n",
        "!pip install -U ydata-profiling"
      ],
      "metadata": {
        "id": "yZpB9dF_zIjf",
        "colab": {
          "base_uri": "https://localhost:8080/"
        },
        "outputId": "a8491271-a822-4080-8685-bfed404ce469"
      },
      "id": "yZpB9dF_zIjf",
      "execution_count": 25,
      "outputs": [
        {
          "output_type": "stream",
          "name": "stdout",
          "text": [
            "Requirement already satisfied: ydata-profiling in /usr/local/lib/python3.10/dist-packages (4.12.0)\n",
            "Requirement already satisfied: scipy<1.14,>=1.4.1 in /usr/local/lib/python3.10/dist-packages (from ydata-profiling) (1.13.1)\n",
            "Requirement already satisfied: pandas!=1.4.0,<3,>1.1 in /usr/local/lib/python3.10/dist-packages (from ydata-profiling) (2.2.2)\n",
            "Requirement already satisfied: matplotlib<3.10,>=3.5 in /usr/local/lib/python3.10/dist-packages (from ydata-profiling) (3.8.0)\n",
            "Requirement already satisfied: pydantic>=2 in /usr/local/lib/python3.10/dist-packages (from ydata-profiling) (2.9.2)\n",
            "Requirement already satisfied: PyYAML<6.1,>=5.0.0 in /usr/local/lib/python3.10/dist-packages (from ydata-profiling) (6.0.2)\n",
            "Requirement already satisfied: jinja2<3.2,>=2.11.1 in /usr/local/lib/python3.10/dist-packages (from ydata-profiling) (3.1.4)\n",
            "Requirement already satisfied: visions<0.7.7,>=0.7.5 in /usr/local/lib/python3.10/dist-packages (from visions[type_image_path]<0.7.7,>=0.7.5->ydata-profiling) (0.7.6)\n",
            "Requirement already satisfied: numpy<2.2,>=1.16.0 in /usr/local/lib/python3.10/dist-packages (from ydata-profiling) (1.26.4)\n",
            "Requirement already satisfied: htmlmin==0.1.12 in /usr/local/lib/python3.10/dist-packages (from ydata-profiling) (0.1.12)\n",
            "Requirement already satisfied: phik<0.13,>=0.11.1 in /usr/local/lib/python3.10/dist-packages (from ydata-profiling) (0.12.4)\n",
            "Requirement already satisfied: requests<3,>=2.24.0 in /usr/local/lib/python3.10/dist-packages (from ydata-profiling) (2.32.3)\n",
            "Requirement already satisfied: tqdm<5,>=4.48.2 in /usr/local/lib/python3.10/dist-packages (from ydata-profiling) (4.66.6)\n",
            "Requirement already satisfied: seaborn<0.14,>=0.10.1 in /usr/local/lib/python3.10/dist-packages (from ydata-profiling) (0.13.2)\n",
            "Requirement already satisfied: multimethod<2,>=1.4 in /usr/local/lib/python3.10/dist-packages (from ydata-profiling) (1.12)\n",
            "Requirement already satisfied: statsmodels<1,>=0.13.2 in /usr/local/lib/python3.10/dist-packages (from ydata-profiling) (0.14.4)\n",
            "Requirement already satisfied: typeguard<5,>=3 in /usr/local/lib/python3.10/dist-packages (from ydata-profiling) (4.4.1)\n",
            "Requirement already satisfied: imagehash==4.3.1 in /usr/local/lib/python3.10/dist-packages (from ydata-profiling) (4.3.1)\n",
            "Requirement already satisfied: wordcloud>=1.9.3 in /usr/local/lib/python3.10/dist-packages (from ydata-profiling) (1.9.4)\n",
            "Requirement already satisfied: dacite>=1.8 in /usr/local/lib/python3.10/dist-packages (from ydata-profiling) (1.8.1)\n",
            "Requirement already satisfied: numba<1,>=0.56.0 in /usr/local/lib/python3.10/dist-packages (from ydata-profiling) (0.60.0)\n",
            "Requirement already satisfied: PyWavelets in /usr/local/lib/python3.10/dist-packages (from imagehash==4.3.1->ydata-profiling) (1.7.0)\n",
            "Requirement already satisfied: pillow in /usr/local/lib/python3.10/dist-packages (from imagehash==4.3.1->ydata-profiling) (11.0.0)\n",
            "Requirement already satisfied: MarkupSafe>=2.0 in /usr/local/lib/python3.10/dist-packages (from jinja2<3.2,>=2.11.1->ydata-profiling) (3.0.2)\n",
            "Requirement already satisfied: contourpy>=1.0.1 in /usr/local/lib/python3.10/dist-packages (from matplotlib<3.10,>=3.5->ydata-profiling) (1.3.1)\n",
            "Requirement already satisfied: cycler>=0.10 in /usr/local/lib/python3.10/dist-packages (from matplotlib<3.10,>=3.5->ydata-profiling) (0.12.1)\n",
            "Requirement already satisfied: fonttools>=4.22.0 in /usr/local/lib/python3.10/dist-packages (from matplotlib<3.10,>=3.5->ydata-profiling) (4.55.0)\n",
            "Requirement already satisfied: kiwisolver>=1.0.1 in /usr/local/lib/python3.10/dist-packages (from matplotlib<3.10,>=3.5->ydata-profiling) (1.4.7)\n",
            "Requirement already satisfied: packaging>=20.0 in /usr/local/lib/python3.10/dist-packages (from matplotlib<3.10,>=3.5->ydata-profiling) (24.2)\n",
            "Requirement already satisfied: pyparsing>=2.3.1 in /usr/local/lib/python3.10/dist-packages (from matplotlib<3.10,>=3.5->ydata-profiling) (3.2.0)\n",
            "Requirement already satisfied: python-dateutil>=2.7 in /usr/local/lib/python3.10/dist-packages (from matplotlib<3.10,>=3.5->ydata-profiling) (2.8.2)\n",
            "Requirement already satisfied: llvmlite<0.44,>=0.43.0dev0 in /usr/local/lib/python3.10/dist-packages (from numba<1,>=0.56.0->ydata-profiling) (0.43.0)\n",
            "Requirement already satisfied: pytz>=2020.1 in /usr/local/lib/python3.10/dist-packages (from pandas!=1.4.0,<3,>1.1->ydata-profiling) (2024.2)\n",
            "Requirement already satisfied: tzdata>=2022.7 in /usr/local/lib/python3.10/dist-packages (from pandas!=1.4.0,<3,>1.1->ydata-profiling) (2024.2)\n",
            "Requirement already satisfied: joblib>=0.14.1 in /usr/local/lib/python3.10/dist-packages (from phik<0.13,>=0.11.1->ydata-profiling) (1.4.2)\n",
            "Requirement already satisfied: annotated-types>=0.6.0 in /usr/local/lib/python3.10/dist-packages (from pydantic>=2->ydata-profiling) (0.7.0)\n",
            "Requirement already satisfied: pydantic-core==2.23.4 in /usr/local/lib/python3.10/dist-packages (from pydantic>=2->ydata-profiling) (2.23.4)\n",
            "Requirement already satisfied: typing-extensions>=4.6.1 in /usr/local/lib/python3.10/dist-packages (from pydantic>=2->ydata-profiling) (4.12.2)\n",
            "Requirement already satisfied: charset-normalizer<4,>=2 in /usr/local/lib/python3.10/dist-packages (from requests<3,>=2.24.0->ydata-profiling) (3.4.0)\n",
            "Requirement already satisfied: idna<4,>=2.5 in /usr/local/lib/python3.10/dist-packages (from requests<3,>=2.24.0->ydata-profiling) (3.10)\n",
            "Requirement already satisfied: urllib3<3,>=1.21.1 in /usr/local/lib/python3.10/dist-packages (from requests<3,>=2.24.0->ydata-profiling) (2.2.3)\n",
            "Requirement already satisfied: certifi>=2017.4.17 in /usr/local/lib/python3.10/dist-packages (from requests<3,>=2.24.0->ydata-profiling) (2024.8.30)\n",
            "Requirement already satisfied: patsy>=0.5.6 in /usr/local/lib/python3.10/dist-packages (from statsmodels<1,>=0.13.2->ydata-profiling) (1.0.1)\n",
            "Requirement already satisfied: attrs>=19.3.0 in /usr/local/lib/python3.10/dist-packages (from visions<0.7.7,>=0.7.5->visions[type_image_path]<0.7.7,>=0.7.5->ydata-profiling) (24.2.0)\n",
            "Requirement already satisfied: networkx>=2.4 in /usr/local/lib/python3.10/dist-packages (from visions<0.7.7,>=0.7.5->visions[type_image_path]<0.7.7,>=0.7.5->ydata-profiling) (3.4.2)\n",
            "Requirement already satisfied: six>=1.5 in /usr/local/lib/python3.10/dist-packages (from python-dateutil>=2.7->matplotlib<3.10,>=3.5->ydata-profiling) (1.16.0)\n"
          ]
        }
      ]
    },
    {
      "cell_type": "markdown",
      "source": [
        "## 1. Loading and Exploring the Dataset"
      ],
      "metadata": {
        "id": "lvoPv1-7R7om"
      },
      "id": "lvoPv1-7R7om"
    },
    {
      "cell_type": "code",
      "execution_count": 26,
      "metadata": {
        "id": "KVKCItiwQHwC",
        "colab": {
          "base_uri": "https://localhost:8080/"
        },
        "outputId": "8c9ae2e2-6f46-4248-e7b1-575128e023d7"
      },
      "outputs": [
        {
          "output_type": "stream",
          "name": "stdout",
          "text": [
            "First few rows of the dataset:\n",
            "   Pregnancies  Glucose  BloodPressure  SkinThickness  Insulin   BMI  \\\n",
            "0            6      148             72             35        0  33.6   \n",
            "1            1       85             66             29        0  26.6   \n",
            "2            8      183             64              0        0  23.3   \n",
            "3            1       89             66             23       94  28.1   \n",
            "4            0      137             40             35      168  43.1   \n",
            "\n",
            "   DiabetesPedigreeFunction  Age  Outcome  \n",
            "0                     0.627   50        1  \n",
            "1                     0.351   31        0  \n",
            "2                     0.672   32        1  \n",
            "3                     0.167   21        0  \n",
            "4                     2.288   33        1  \n",
            "\n",
            "Checking for missing values:\n",
            "Pregnancies                 0\n",
            "Glucose                     0\n",
            "BloodPressure               0\n",
            "SkinThickness               0\n",
            "Insulin                     0\n",
            "BMI                         0\n",
            "DiabetesPedigreeFunction    0\n",
            "Age                         0\n",
            "Outcome                     0\n",
            "dtype: int64\n"
          ]
        }
      ],
      "source": [
        "# 1. Loading and Exploring the Dataset\n",
        "import pandas as pd\n",
        "import numpy as np\n",
        "from sklearn.model_selection import train_test_split\n",
        "from sklearn.preprocessing import StandardScaler\n",
        "from sklearn.ensemble import RandomForestClassifier\n",
        "from sklearn.feature_selection import RFE\n",
        "import seaborn as sns\n",
        "import matplotlib.pyplot as plt\n",
        "from ydata_profiling import ProfileReport\n",
        "\n",
        "# Load the dataset\n",
        "df = pd.read_csv('diabetes.csv')\n",
        "\n",
        "# Preview the data\n",
        "print(\"First few rows of the dataset:\")\n",
        "print(df.head())\n",
        "\n",
        "# Check for missing values\n",
        "print(\"\\nChecking for missing values:\")\n",
        "print(df.isnull().sum())\n"
      ],
      "id": "KVKCItiwQHwC"
    },
    {
      "cell_type": "markdown",
      "source": [
        "### EDA using Pandas Profiling\n",
        "\n",
        "What is EDA? Exploratory Data Analysis (EDA) is an initial step in data analysis where you summarize the main characteristics of your data, identify patterns, and potentially spot anomalies. It helps you gain a better understanding of your dataset before applying more complex modeling techniques.\n",
        "\n",
        "Pandas Profiling for EDA\n",
        "\n",
        "Pandas Profiling is a Python library that automates the process of generating EDA reports for your datasets. It creates interactive HTML reports that provide a comprehensive overview of your data, including:\n",
        "\n",
        "* Overview: A summary of the dataset, including the number of variables, observations, missing values, and data types.\n",
        "* Variables: Detailed information about each variable, such as its distribution, statistics (mean, median, standard deviation), and potential outliers.\n",
        "* Correlations: A visualization of the relationships between variables using heatmaps or scatter plots.\n",
        "* Missing Values: An analysis of missing values in the dataset, including their patterns and potential impact.\n",
        "* Interactions: Interactive plots that allow you to explore the relationships between variables in more detail."
      ],
      "metadata": {
        "id": "CtGVox1by4Bx"
      },
      "id": "CtGVox1by4Bx"
    },
    {
      "cell_type": "code",
      "source": [
        "#file = ProfileReport(df)\n",
        "#file.to_file(output_file='output.html')\n",
        "\n",
        "profile = ProfileReport(df, title=\"Pandas Profiling Report\", explorative=True)\n",
        "profile.to_file(\"output.html\")"
      ],
      "metadata": {
        "id": "fvPo-wRGy_RK",
        "colab": {
          "base_uri": "https://localhost:8080/",
          "height": 145,
          "referenced_widgets": [
            "b023c57337f7412381a60595811759ea",
            "71e27ee739cc445c92acd7958f5d5f53",
            "5d220db58a3b48c9829c61d8167261c2",
            "5efbf6c8cdcb4a35b2010b9b2b8ed369",
            "b1c18d7dbef54ce7a25e11f23b3d881b",
            "71bed59ef818418391f609876cfbf6d7",
            "10a5a24831844a868c64960647d1cd70",
            "df960b2146284ec0b0327f6a5f426fa3",
            "806fea7ff27945f1a30647c7049f3727",
            "55354a723be549378782327f106b4a68",
            "abf0c7a9b1e94722a8212606e061834a",
            "2a19215ff9f44789966757b4fa41ef7d",
            "cb861038bc624a808896b82a4c221920",
            "c54ed48744704538ab6d62e2d5c704b5",
            "3e4adf8610964a7dadad241fb7e8a93f",
            "07e4b57690434e2c905f85a81abfdb5b",
            "744b5ffe30d24e54a1671821492267b0",
            "156a19fb6f2b41aba7047ef376e58ea5",
            "28ff93637a1e452ea2a475dc8b569785",
            "e8203a0f20b84f5dba5fbaaa5c35224c",
            "c866dd8b26bf409594e0fd8537a4a61f",
            "eea79efe96a94dbd99f55555c061e155",
            "abc1b3328d1e483ca0aa69cb36ae5227",
            "e9c1ee50eb25494f9f2a21f8801c5db1",
            "67f7a9363cf64c369d058906b17fe05d",
            "b7159e82f30443719e71466bc82b217d",
            "013eb031baae4268a0e59d99ccf6c233",
            "353513c6bb274e398defa67e555a9d2b",
            "f7c12c871280405b9e00c3d3e9698206",
            "5090b32e81434056bc238d8a13878c6a",
            "069b618d912a4e979c6f3e95598505ed",
            "93fe33ff9382482994cf3e66de98f5be",
            "b8e0e5a057b44c31b167f415e19c140c",
            "95d45dbe2f92473c8abd47af405162b8",
            "82b53f727f1b46b69616e391cf875fcb",
            "c1370f9d45fd461797cdf960fde0c69d",
            "c9915fc0368f4c5ba51488a0bf8c8464",
            "449ef19f25d244d2bb84c509729065e9",
            "2f798dbfcd80409abd0ddd3893fac0b5",
            "051868bfe1b64100bd127d09142f32ea",
            "68c4a5708a84462293902796aa20416c",
            "2ca17f13568949f0b68a94fbd756dd11",
            "4c49bc05fc134c649faa2c2923d00857",
            "927a0f626efc4ff0ac3eafb47b155ec0"
          ]
        },
        "outputId": "cdd5e30b-5922-4079-ac28-e567e1e4293e"
      },
      "id": "fvPo-wRGy_RK",
      "execution_count": 27,
      "outputs": [
        {
          "output_type": "display_data",
          "data": {
            "text/plain": [
              "Summarize dataset:   0%|          | 0/5 [00:00<?, ?it/s]"
            ],
            "application/vnd.jupyter.widget-view+json": {
              "version_major": 2,
              "version_minor": 0,
              "model_id": "b023c57337f7412381a60595811759ea"
            }
          },
          "metadata": {}
        },
        {
          "output_type": "display_data",
          "data": {
            "text/plain": [
              "Generate report structure:   0%|          | 0/1 [00:00<?, ?it/s]"
            ],
            "application/vnd.jupyter.widget-view+json": {
              "version_major": 2,
              "version_minor": 0,
              "model_id": "2a19215ff9f44789966757b4fa41ef7d"
            }
          },
          "metadata": {}
        },
        {
          "output_type": "display_data",
          "data": {
            "text/plain": [
              "Render HTML:   0%|          | 0/1 [00:00<?, ?it/s]"
            ],
            "application/vnd.jupyter.widget-view+json": {
              "version_major": 2,
              "version_minor": 0,
              "model_id": "abc1b3328d1e483ca0aa69cb36ae5227"
            }
          },
          "metadata": {}
        },
        {
          "output_type": "display_data",
          "data": {
            "text/plain": [
              "Export report to file:   0%|          | 0/1 [00:00<?, ?it/s]"
            ],
            "application/vnd.jupyter.widget-view+json": {
              "version_major": 2,
              "version_minor": 0,
              "model_id": "95d45dbe2f92473c8abd47af405162b8"
            }
          },
          "metadata": {}
        }
      ]
    },
    {
      "cell_type": "markdown",
      "source": [
        "### Instructions for **Viewing the Report**\n",
        "\n",
        "The profiling report has been saved as `output.html`. To open and navigate through the report, follow these steps:\n",
        "\n",
        "1. **Locate the File**:  \n",
        "   The file `output.html` should be saved in your current working directory. You can confirm the location by running the following command in a new cell:\n",
        "   ```python\n",
        "   import os\n",
        "   os.getcwd()\n",
        "\n",
        "2. **Open the Report**:\n",
        "    \n",
        "    Navigate to the directory where output.html is saved on your computer.\n",
        "    Double-click the output.html file to open it in your web browser.\n",
        "    \n",
        "3. **Explore the Report**:\n",
        "\n",
        "    The report contains various sections, such as overview, variables, correlations, missing values, and more. Use the table of contents on the left side of the page to quickly jump to different sections.\n",
        "    You can scroll through the report to explore summaries, distributions, and correlations of your dataset's variables."
      ],
      "metadata": {
        "id": "TZkDhzLy0w38"
      },
      "id": "TZkDhzLy0w38"
    },
    {
      "cell_type": "code",
      "source": [
        "import os\n",
        "os.getcwd()"
      ],
      "metadata": {
        "colab": {
          "base_uri": "https://localhost:8080/",
          "height": 36
        },
        "id": "Pqyf5TF19Qb-",
        "outputId": "fc18756d-da63-4470-bb0e-13ffe4a3c969"
      },
      "id": "Pqyf5TF19Qb-",
      "execution_count": 29,
      "outputs": [
        {
          "output_type": "execute_result",
          "data": {
            "text/plain": [
              "'/content'"
            ],
            "application/vnd.google.colaboratory.intrinsic+json": {
              "type": "string"
            }
          },
          "metadata": {},
          "execution_count": 29
        }
      ]
    },
    {
      "cell_type": "markdown",
      "source": [
        "The profile generated by ProfileReport from the ydata-profiling library can be thought of as a **DASHBOARD** in the sense that it provides an interactive, comprehensive overview of the dataset.\n"
      ],
      "metadata": {
        "id": "zjR5CQzc26Jy"
      },
      "id": "zjR5CQzc26Jy"
    },
    {
      "cell_type": "markdown",
      "source": [
        "## 2. Handling Missing Values"
      ],
      "metadata": {
        "id": "brYSFqAuR-0g"
      },
      "id": "brYSFqAuR-0g"
    },
    {
      "cell_type": "code",
      "execution_count": 30,
      "metadata": {
        "id": "Pi4a_uWbQHwC"
      },
      "outputs": [],
      "source": [
        "# 2. Handling Missing Values\n",
        "# In this dataset, there are no missing values by default, but if any were present, we would handle them here.\n"
      ],
      "id": "Pi4a_uWbQHwC"
    },
    {
      "cell_type": "markdown",
      "source": [
        "## 3. Feature Engineering"
      ],
      "metadata": {
        "id": "YIdtJA_USARm"
      },
      "id": "YIdtJA_USARm"
    },
    {
      "cell_type": "markdown",
      "source": [
        "In this section, you'll perform feature engineering on the dataset by scaling the features.\n",
        "The `StandardScaler` is a tool that helps normalize data, making it easier for machine learning models to process.\n",
        "Your task is to scale all the numerical features except for the target variable `Outcome`.\n",
        "Use the Pandas DataFrame structure to store the scaled data."
      ],
      "metadata": {
        "id": "elLLv8Ai7Izi"
      },
      "id": "elLLv8Ai7Izi"
    },
    {
      "cell_type": "code",
      "execution_count": 31,
      "metadata": {
        "id": "BFbQHstSQHwC",
        "colab": {
          "base_uri": "https://localhost:8080/"
        },
        "outputId": "3094e5d3-f504-439f-d5cf-436c5fe0d81c"
      },
      "outputs": [
        {
          "output_type": "stream",
          "name": "stdout",
          "text": [
            "   Pregnancies   Glucose  BloodPressure  SkinThickness   Insulin       BMI  \\\n",
            "0     0.639947  0.848324       0.149641       0.907270 -0.692891  0.204013   \n",
            "1    -0.844885 -1.123396      -0.160546       0.530902 -0.692891 -0.684422   \n",
            "2     1.233880  1.943724      -0.263941      -1.288212 -0.692891 -1.103255   \n",
            "3    -0.844885 -0.998208      -0.160546       0.154533  0.123302 -0.494043   \n",
            "4    -1.141852  0.504055      -1.504687       0.907270  0.765836  1.409746   \n",
            "\n",
            "   DiabetesPedigreeFunction       Age  Outcome  \n",
            "0                  0.468492  1.425995        1  \n",
            "1                 -0.365061 -0.190672        0  \n",
            "2                  0.604397 -0.105584        1  \n",
            "3                 -0.920763 -1.041549        0  \n",
            "4                  5.484909 -0.020496        1  \n"
          ]
        }
      ],
      "source": [
        "# Task 1: Scale the features (excluding the 'Outcome' column)\n",
        "# HINT: Use StandardScaler() from sklearn and apply it to the dataset after dropping 'Outcome'\n",
        "#       Then, create a new DataFrame to hold the scaled features along with the 'Outcome' column.\n",
        "#first i will seperate the feature and target variable\n",
        "f = df.drop(columns=['Outcome'])\n",
        "t = df['Outcome']\n",
        "\n",
        "\n",
        "\n",
        "# --- Your Code Starts Here ---\n",
        "    ### Apply scaler to the features\n",
        "scaler=StandardScaler()\n",
        "f_scaled = scaler.fit_transform(f)\n",
        "f_scaled_df = pd.DataFrame(f_scaled, columns=f.columns)\n",
        "    ### Add back the 'Outcome' column to the scaled DataFrame\n",
        "scaled_df = pd.concat([f_scaled_df, t.reset_index(drop=True)], axis=1)\n",
        "print(scaled_df.head())\n",
        "# --- Your Code Ends Here ---\n"
      ],
      "id": "BFbQHstSQHwC"
    },
    {
      "cell_type": "markdown",
      "source": [
        "In this task, you will create new categorical features from continuous ones.\n",
        "For example, you can create categories for BMI, such as 'Underweight', 'Normal', 'Overweight', and 'Obese'.\n",
        "This helps group continuous values into meaningful categories that can be easier for analysis."
      ],
      "metadata": {
        "id": "tWfGYgXj7UF2"
      },
      "id": "tWfGYgXj7UF2"
    },
    {
      "cell_type": "code",
      "source": [
        "# Task 2: Create new categories for the 'BMI' feature\n",
        "# HINT: Use pd.cut() to bin the values in the 'BMI' column into the following ranges:\n",
        "#       0-18.5 = 'Underweight', 18.5-24.9 = 'Normal', 24.9-29.9 = 'Overweight', and 29.9+ = 'Obese'.\n",
        "#       Add the resulting categories as a new column in the scaled DataFrame.\n",
        "# Define the BMI ranges and labels\n",
        "bins_range_bmi = [0, 18.5, 24.9, 29.9, float('inf')]\n",
        "label_categories_bmi = ['Underweight', 'Normal', 'Overweight', 'Obese']\n",
        "\n",
        "# --- Your Code Starts Here ---\n",
        "\n",
        "    ### Create a new column 'BMI_Category' based on BMI ranges, and added the column to the scaled_df that i did before( here the values are scaled)\n",
        "scaled_df['BMI_Classification'] = pd.cut(df['BMI'], bins=bins_range_bmi, labels=label_categories_bmi, right=True)\n",
        "\n",
        "    ### Print the first few rows of the DataFrame to check the new feature\n",
        "print(scaled_df[['BMI', 'BMI_Classification']].head())\n",
        "# --- Your Code Ends Here ---"
      ],
      "metadata": {
        "id": "yLwrj8Cj7det",
        "colab": {
          "base_uri": "https://localhost:8080/"
        },
        "outputId": "7ef67282-4893-4e87-cc02-c031890765f9"
      },
      "id": "yLwrj8Cj7det",
      "execution_count": 32,
      "outputs": [
        {
          "output_type": "stream",
          "name": "stdout",
          "text": [
            "        BMI BMI_Classification\n",
            "0  0.204013              Obese\n",
            "1 -0.684422         Overweight\n",
            "2 -1.103255             Normal\n",
            "3 -0.494043         Overweight\n",
            "4  1.409746              Obese\n"
          ]
        }
      ]
    },
    {
      "cell_type": "markdown",
      "source": [
        "## 4. Feature Selection"
      ],
      "metadata": {
        "id": "JBeWnwDKSDPl"
      },
      "id": "JBeWnwDKSDPl"
    },
    {
      "cell_type": "markdown",
      "source": [
        "### Correlation Matrix\n",
        "\n",
        "Why Correlation Matrix is Important for Feature Selection:\n",
        "\n",
        "* Identifying Redundancy: The correlation matrix helps in identifying features that are highly correlated with each other. Highly correlated features provide redundant information. Including redundant features in your model can lead to overfitting and can unnecessarily increase model complexity.\n",
        "* Multicollinearity: Multicollinearity is a phenomenon where two or more predictor variables in a multiple regression model are highly correlated, meaning that one can be linearly predicted from the others with a substantial degree of accuracy. When some features are highly correlated, it becomes difficult for the model to determine the individual effect of each feature on the target variable. This can make the model unstable and unreliable.\n",
        "* Improving Model Performance: By removing highly correlated features, you can improve model performance, reduce overfitting, and make the model more interpretable. You can also make your model simpler and easier to maintain.\n",
        "* Reducing Dimensionality: Feature selection reduces the number of features in your dataset, reducing dimensionality. This can make the modeling process faster and more efficient, especially when dealing with large datasets.\n",
        "* Enhancing Model Interpretability: By selecting the most relevant features, you can improve the interpretability of the model. It's easier to understand the relationships between the features and the target variable when the model is built on a smaller set of significant features.\n",
        "\n",
        "\n",
        "In summary, correlation matrices help you understand the relationships between your features, identify redundancy, and guide the selection of the most informative and non-redundant features for your machine learning model."
      ],
      "metadata": {
        "id": "QxAB7tyz1Tck"
      },
      "id": "QxAB7tyz1Tck"
    },
    {
      "cell_type": "code",
      "execution_count": 33,
      "metadata": {
        "id": "FVL1f3rjQHwD",
        "colab": {
          "base_uri": "https://localhost:8080/"
        },
        "outputId": "20b86a03-5d46-4626-e3f8-9f23c6222d41"
      },
      "outputs": [
        {
          "output_type": "stream",
          "name": "stdout",
          "text": [
            "the correlation matrix is :\n",
            "                          Pregnancies   Glucose  BloodPressure  SkinThickness  \\\n",
            "Pregnancies                  1.000000  0.129459       0.141282      -0.081672   \n",
            "Glucose                      0.129459  1.000000       0.152590       0.057328   \n",
            "BloodPressure                0.141282  0.152590       1.000000       0.207371   \n",
            "SkinThickness               -0.081672  0.057328       0.207371       1.000000   \n",
            "Insulin                     -0.073535  0.331357       0.088933       0.436783   \n",
            "BMI                          0.017683  0.221071       0.281805       0.392573   \n",
            "DiabetesPedigreeFunction    -0.033523  0.137337       0.041265       0.183928   \n",
            "Age                          0.544341  0.263514       0.239528      -0.113970   \n",
            "\n",
            "                           Insulin       BMI  DiabetesPedigreeFunction  \\\n",
            "Pregnancies              -0.073535  0.017683                 -0.033523   \n",
            "Glucose                   0.331357  0.221071                  0.137337   \n",
            "BloodPressure             0.088933  0.281805                  0.041265   \n",
            "SkinThickness             0.436783  0.392573                  0.183928   \n",
            "Insulin                   1.000000  0.197859                  0.185071   \n",
            "BMI                       0.197859  1.000000                  0.140647   \n",
            "DiabetesPedigreeFunction  0.185071  0.140647                  1.000000   \n",
            "Age                      -0.042163  0.036242                  0.033561   \n",
            "\n",
            "                               Age  \n",
            "Pregnancies               0.544341  \n",
            "Glucose                   0.263514  \n",
            "BloodPressure             0.239528  \n",
            "SkinThickness            -0.113970  \n",
            "Insulin                  -0.042163  \n",
            "BMI                       0.036242  \n",
            "DiabetesPedigreeFunction  0.033561  \n",
            "Age                       1.000000  \n"
          ]
        }
      ],
      "source": [
        "# 4. Feature Selection\n",
        "# 4.1 Correlation Matrix\n",
        "# --- Your Code Starts Here ---\n",
        "    ### Create a DataFrame containing only numerical features by dropping the 'BMI_Category' column.\n",
        "numerical_f = scaled_df.drop(columns=['BMI_Classification', 'Outcome'])\n",
        "numerical_f = numerical_f.select_dtypes(include=['float64', 'int64'])\n",
        "    ### Calculate the correlation matrix for the numerical features using pandas' .corr() method.\n",
        "corr_matrix=numerical_f.corr()\n",
        "print(\"the correlation matrix is :\")\n",
        "print(corr_matrix)\n",
        "# --- Your Code Ends Here ---\n"
      ],
      "id": "FVL1f3rjQHwD"
    },
    {
      "cell_type": "markdown",
      "source": [
        "### RFE\n",
        "\n",
        "RFE is a feature selection method that works by recursively removing features and building a model on those remaining features. It uses the model's performance to identify which features are the most important."
      ],
      "metadata": {
        "id": "36Tfw6QoCoxr"
      },
      "id": "36Tfw6QoCoxr"
    },
    {
      "cell_type": "code",
      "execution_count": 34,
      "metadata": {
        "id": "iZ-TLjgnQHwD",
        "colab": {
          "base_uri": "https://localhost:8080/"
        },
        "outputId": "137ad2b7-cad9-4db8-8bc3-9d7e4b2a41b7"
      },
      "outputs": [
        {
          "output_type": "stream",
          "name": "stdout",
          "text": [
            "Top 5 selected features using RFE:\n",
            "Index(['Glucose', 'BloodPressure', 'BMI', 'DiabetesPedigreeFunction', 'Age'], dtype='object')\n"
          ]
        }
      ],
      "source": [
        "# 4.2 Recursive Feature Elimination (RFE)\n",
        "# implement RFE using randomforestclassifier as the model\n",
        "#display the first 5 selected features\n",
        "# --- Your Code Starts Here ---\n",
        "rf = RandomForestClassifier(random_state=42)\n",
        "rf_features_selected = RFE(estimator=rf, n_features_to_select=5)\n",
        "rf_features_selected.fit(numerical_f,t)\n",
        "selected_features = numerical_f.columns[rf_features_selected.support_]\n",
        "print(\"Top 5 selected features using RFE:\")\n",
        "print(selected_features)\n",
        "# --- Your Code Ends Here ---"
      ],
      "id": "iZ-TLjgnQHwD"
    },
    {
      "cell_type": "markdown",
      "source": [
        "### Feature Importance using RandomForest\n",
        "\n",
        "Random Forest is an ensemble learning method that builds multiple decision trees and combines their predictions. One of the great advantages of Random Forest is that it provides a measure of feature importance, which indicates how much each feature contributes to the model's predictive power."
      ],
      "metadata": {
        "id": "nuJxMl2ZDIWW"
      },
      "id": "nuJxMl2ZDIWW"
    },
    {
      "cell_type": "code",
      "execution_count": 38,
      "metadata": {
        "id": "9NsiHd-JQHwD",
        "colab": {
          "base_uri": "https://localhost:8080/",
          "height": 870
        },
        "outputId": "f1bf322f-635d-4381-a98d-688aea92f0f6"
      },
      "outputs": [
        {
          "output_type": "stream",
          "name": "stdout",
          "text": [
            "Feature Importances:\n",
            "                    Feature  Importance\n",
            "1                   Glucose    0.267142\n",
            "5                       BMI    0.168769\n",
            "7                       Age    0.131567\n",
            "6  DiabetesPedigreeFunction    0.122695\n",
            "2             BloodPressure    0.088660\n",
            "0               Pregnancies    0.085017\n",
            "4                   Insulin    0.071547\n",
            "3             SkinThickness    0.064604\n"
          ]
        },
        {
          "output_type": "display_data",
          "data": {
            "text/plain": [
              "<Figure size 1000x600 with 1 Axes>"
            ],
            "image/png": "[encoded data removed]"
          },
          "metadata": {}
        }
      ],
      "source": [
        "# 4.3 Feature Importance using RandomForest\n",
        "#Train the previously defined randomforest classifier model.\n",
        "#use feature_importances_ and sort the features in descending order\n",
        "#Create a bar plot to show the sorted features\n",
        "# --- Your Code Starts Here ---\n",
        "rf.fit(numerical_f, t)\n",
        "feature_importances = rf.feature_importances_\n",
        "sorted_df = pd.DataFrame({\n",
        "    'Feature': numerical_f.columns,\n",
        "    'Importance': feature_importances\n",
        "}).sort_values(by='Importance', ascending=False)\n",
        "\n",
        "\n",
        "print(\"Feature Importances:\")\n",
        "print(sorted_df)\n",
        "\n",
        "#Creating  a bar\n",
        "plt.figure(figsize=(10, 6))\n",
        "plt.bar(sorted_df['Feature'], sorted_df['Importance'], color='pink')\n",
        "plt.title('Features')\n",
        "plt.xlabel('Features f')\n",
        "plt.ylabel('Importance')\n",
        "plt.xticks(rotation=45, ha='right')\n",
        "plt.show()\n",
        "\n",
        "# --- Your Code Ends Here ---\n"
      ],
      "id": "9NsiHd-JQHwD"
    },
    {
      "cell_type": "markdown",
      "source": [
        "## 5. Model Building for Comparison (Simple RandomForest Model)\n",
        "\n",
        "Building a simple Random Forest model for comparison serves as a crucial step in evaluating the effectiveness of feature selection methods. It provides a baseline performance to compare against, helps to assess the impact of selected features on model performance, and allows you to identify whether feature selection leads to a more efficient and generalizable model. By comparing the performance of models with and without feature selection, you can make informed decisions about the optimal features to include in your final model."
      ],
      "metadata": {
        "id": "optobYq6SGOm"
      },
      "id": "optobYq6SGOm"
    },
    {
      "cell_type": "code",
      "execution_count": 42,
      "metadata": {
        "id": "JRb7SMGSQHwD",
        "colab": {
          "base_uri": "https://localhost:8080/"
        },
        "outputId": "e3fd7b8c-1adf-4435-d9e4-b0c7e4ef96c6"
      },
      "outputs": [
        {
          "output_type": "stream",
          "name": "stdout",
          "text": [
            "accuracy using all features: 0.7575757575757576\n",
            "accuracy using selected features: 0.7532467532467533\n"
          ]
        }
      ],
      "source": [
        "# 5. Model Building for Comparison (Simple RandomForest Model)\n",
        "#Split the dataset into training and testing sets with a 70/30 split\n",
        "#(using random_state=42 for reproducibility), train a RandomForest model\n",
        "# using the training data, and then evaluate the model's accuracy on the testing data.\n",
        "# Print the achieved accuracy.\n",
        "# Try the model performance with only selected features and with all features.\n",
        "# --- Your Code Starts Here ---\n",
        "\n",
        "from sklearn.model_selection import cross_val_score\n",
        "f_all = scaled_df.drop(columns=['Outcome', 'BMI_Classification'])\n",
        "y = scaled_df['Outcome']\n",
        "\n",
        "features_selected = ['Glucose', 'BloodPressure', 'BMI', 'DiabetesPedigreeFunction', 'Age']\n",
        "f_selected = scaled_df[features_selected]\n",
        "\n",
        "# For all features\n",
        "f_all_train, f_all_test, y_train, y_test = train_test_split(f_all, y, test_size=0.3, random_state=42)\n",
        "\n",
        "# For selected features\n",
        "f_selected_train, f_selected_test, y_train_selected, y_test_selected = train_test_split(f_selected, y, test_size=0.3, random_state=42)\n",
        "\n",
        "# Traiing the model with all features\n",
        "rf_all = RandomForestClassifier(random_state=42)\n",
        "rf_all.fit(f_all_train, y_train)\n",
        "y_all_pred = rf_all.predict(f_all_test)\n",
        "\n",
        "#Training the model with selected features\n",
        "rf_selected = RandomForestClassifier(random_state=42)\n",
        "rf_selected.fit(f_selected_train, y_train_selected)\n",
        "y_selected_pred = rf_selected.predict(f_selected_test)\n",
        "\n",
        "accuracy_all = accuracy_score(y_test, y_all_pred)\n",
        "accuracy_selected = accuracy_score(y_test_selected, y_selected_pred)\n",
        "\n",
        "print(\"accuracy using all features:\", accuracy_all)\n",
        "print(\"accuracy using selected features:\", accuracy_selected)\n",
        "\n",
        "\n",
        "# --- Your Code Ends Here ---\n"
      ],
      "id": "JRb7SMGSQHwD"
    }
  ],
  "metadata": {
    "kernelspec": {
      "display_name": "Python 3",
      "language": "python",
      "name": "python3"
    },
    "language_info": {
      "name": "python",
      "version": "3.x"
    },
    "colab": {
      "provenance": []
    },
    "widgets": {
      "application/vnd.jupyter.widget-state+json": {
        "b023c57337f7412381a60595811759ea": {
          "model_module": "@jupyter-widgets/controls",
          "model_name": "HBoxModel",
          "model_module_version": "1.5.0",
          "state": {
            "_dom_classes": [],
            "_model_module": "@jupyter-widgets/controls",
            "_model_module_version": "1.5.0",
            "_model_name": "HBoxModel",
            "_view_count": null,
            "_view_module": "@jupyter-widgets/controls",
            "_view_module_version": "1.5.0",
            "_view_name": "HBoxView",
            "box_style": "",
            "children": [
              "IPY_MODEL_71e27ee739cc445c92acd7958f5d5f53",
              "IPY_MODEL_5d220db58a3b48c9829c61d8167261c2",
              "IPY_MODEL_5efbf6c8cdcb4a35b2010b9b2b8ed369"
            ],
            "layout": "IPY_MODEL_b1c18d7dbef54ce7a25e11f23b3d881b"
          }
        },
        "71e27ee739cc445c92acd7958f5d5f53": {
          "model_module": "@jupyter-widgets/controls",
          "model_name": "HTMLModel",
          "model_module_version": "1.5.0",
          "state": {
            "_dom_classes": [],
            "_model_module": "@jupyter-widgets/controls",
            "_model_module_version": "1.5.0",
            "_model_name": "HTMLModel",
            "_view_count": null,
            "_view_module": "@jupyter-widgets/controls",
            "_view_module_version": "1.5.0",
            "_view_name": "HTMLView",
            "description": "",
            "description_tooltip": null,
            "layout": "IPY_MODEL_71bed59ef818418391f609876cfbf6d7",
            "placeholder": "​",
            "style": "IPY_MODEL_10a5a24831844a868c64960647d1cd70",
            "value": "Summarize dataset: 100%"
          }
        },
        "5d220db58a3b48c9829c61d8167261c2": {
          "model_module": "@jupyter-widgets/controls",
          "model_name": "FloatProgressModel",
          "model_module_version": "1.5.0",
          "state": {
            "_dom_classes": [],
            "_model_module": "@jupyter-widgets/controls",
            "_model_module_version": "1.5.0",
            "_model_name": "FloatProgressModel",
            "_view_count": null,
            "_view_module": "@jupyter-widgets/controls",
            "_view_module_version": "1.5.0",
            "_view_name": "ProgressView",
            "bar_style": "success",
            "description": "",
            "description_tooltip": null,
            "layout": "IPY_MODEL_df960b2146284ec0b0327f6a5f426fa3",
            "max": 5,
            "min": 0,
            "orientation": "horizontal",
            "style": "IPY_MODEL_806fea7ff27945f1a30647c7049f3727",
            "value": 5
          }
        },
        "5efbf6c8cdcb4a35b2010b9b2b8ed369": {
          "model_module": "@jupyter-widgets/controls",
          "model_name": "HTMLModel",
          "model_module_version": "1.5.0",
          "state": {
            "_dom_classes": [],
            "_model_module": "@jupyter-widgets/controls",
            "_model_module_version": "1.5.0",
            "_model_name": "HTMLModel",
            "_view_count": null,
            "_view_module": "@jupyter-widgets/controls",
            "_view_module_version": "1.5.0",
            "_view_name": "HTMLView",
            "description": "",
            "description_tooltip": null,
            "layout": "IPY_MODEL_55354a723be549378782327f106b4a68",
            "placeholder": "​",
            "style": "IPY_MODEL_abf0c7a9b1e94722a8212606e061834a",
            "value": " 82/82 [00:23&lt;00:00,  4.41it/s, Completed]"
          }
        },
        "b1c18d7dbef54ce7a25e11f23b3d881b": {
          "model_module": "@jupyter-widgets/base",
          "model_name": "LayoutModel",
          "model_module_version": "1.2.0",
          "state": {
            "_model_module": "@jupyter-widgets/base",
            "_model_module_version": "1.2.0",
            "_model_name": "LayoutModel",
            "_view_count": null,
            "_view_module": "@jupyter-widgets/base",
            "_view_module_version": "1.2.0",
            "_view_name": "LayoutView",
            "align_content": null,
            "align_items": null,
            "align_self": null,
            "border": null,
            "bottom": null,
            "display": null,
            "flex": null,
            "flex_flow": null,
            "grid_area": null,
            "grid_auto_columns": null,
            "grid_auto_flow": null,
            "grid_auto_rows": null,
            "grid_column": null,
            "grid_gap": null,
            "grid_row": null,
            "grid_template_areas": null,
            "grid_template_columns": null,
            "grid_template_rows": null,
            "height": null,
            "justify_content": null,
            "justify_items": null,
            "left": null,
            "margin": null,
            "max_height": null,
            "max_width": null,
            "min_height": null,
            "min_width": null,
            "object_fit": null,
            "object_position": null,
            "order": null,
            "overflow": null,
            "overflow_x": null,
            "overflow_y": null,
            "padding": null,
            "right": null,
            "top": null,
            "visibility": null,
            "width": null
          }
        },
        "71bed59ef818418391f609876cfbf6d7": {
          "model_module": "@jupyter-widgets/base",
          "model_name": "LayoutModel",
          "model_module_version": "1.2.0",
          "state": {
            "_model_module": "@jupyter-widgets/base",
            "_model_module_version": "1.2.0",
            "_model_name": "LayoutModel",
            "_view_count": null,
            "_view_module": "@jupyter-widgets/base",
            "_view_module_version": "1.2.0",
            "_view_name": "LayoutView",
            "align_content": null,
            "align_items": null,
            "align_self": null,
            "border": null,
            "bottom": null,
            "display": null,
            "flex": null,
            "flex_flow": null,
            "grid_area": null,
            "grid_auto_columns": null,
            "grid_auto_flow": null,
            "grid_auto_rows": null,
            "grid_column": null,
            "grid_gap": null,
            "grid_row": null,
            "grid_template_areas": null,
            "grid_template_columns": null,
            "grid_template_rows": null,
            "height": null,
            "justify_content": null,
            "justify_items": null,
            "left": null,
            "margin": null,
            "max_height": null,
            "max_width": null,
            "min_height": null,
            "min_width": null,
            "object_fit": null,
            "object_position": null,
            "order": null,
            "overflow": null,
            "overflow_x": null,
            "overflow_y": null,
            "padding": null,
            "right": null,
            "top": null,
            "visibility": null,
            "width": null
          }
        },
        "10a5a24831844a868c64960647d1cd70": {
          "model_module": "@jupyter-widgets/controls",
          "model_name": "DescriptionStyleModel",
          "model_module_version": "1.5.0",
          "state": {
            "_model_module": "@jupyter-widgets/controls",
            "_model_module_version": "1.5.0",
            "_model_name": "DescriptionStyleModel",
            "_view_count": null,
            "_view_module": "@jupyter-widgets/base",
            "_view_module_version": "1.2.0",
            "_view_name": "StyleView",
            "description_width": ""
          }
        },
        "df960b2146284ec0b0327f6a5f426fa3": {
          "model_module": "@jupyter-widgets/base",
          "model_name": "LayoutModel",
          "model_module_version": "1.2.0",
          "state": {
            "_model_module": "@jupyter-widgets/base",
            "_model_module_version": "1.2.0",
            "_model_name": "LayoutModel",
            "_view_count": null,
            "_view_module": "@jupyter-widgets/base",
            "_view_module_version": "1.2.0",
            "_view_name": "LayoutView",
            "align_content": null,
            "align_items": null,
            "align_self": null,
            "border": null,
            "bottom": null,
            "display": null,
            "flex": null,
            "flex_flow": null,
            "grid_area": null,
            "grid_auto_columns": null,
            "grid_auto_flow": null,
            "grid_auto_rows": null,
            "grid_column": null,
            "grid_gap": null,
            "grid_row": null,
            "grid_template_areas": null,
            "grid_template_columns": null,
            "grid_template_rows": null,
            "height": null,
            "justify_content": null,
            "justify_items": null,
            "left": null,
            "margin": null,
            "max_height": null,
            "max_width": null,
            "min_height": null,
            "min_width": null,
            "object_fit": null,
            "object_position": null,
            "order": null,
            "overflow": null,
            "overflow_x": null,
            "overflow_y": null,
            "padding": null,
            "right": null,
            "top": null,
            "visibility": null,
            "width": null
          }
        },
        "806fea7ff27945f1a30647c7049f3727": {
          "model_module": "@jupyter-widgets/controls",
          "model_name": "ProgressStyleModel",
          "model_module_version": "1.5.0",
          "state": {
            "_model_module": "@jupyter-widgets/controls",
            "_model_module_version": "1.5.0",
            "_model_name": "ProgressStyleModel",
            "_view_count": null,
            "_view_module": "@jupyter-widgets/base",
            "_view_module_version": "1.2.0",
            "_view_name": "StyleView",
            "bar_color": null,
            "description_width": ""
          }
        },
        "55354a723be549378782327f106b4a68": {
          "model_module": "@jupyter-widgets/base",
          "model_name": "LayoutModel",
          "model_module_version": "1.2.0",
          "state": {
            "_model_module": "@jupyter-widgets/base",
            "_model_module_version": "1.2.0",
            "_model_name": "LayoutModel",
            "_view_count": null,
            "_view_module": "@jupyter-widgets/base",
            "_view_module_version": "1.2.0",
            "_view_name": "LayoutView",
            "align_content": null,
            "align_items": null,
            "align_self": null,
            "border": null,
            "bottom": null,
            "display": null,
            "flex": null,
            "flex_flow": null,
            "grid_area": null,
            "grid_auto_columns": null,
            "grid_auto_flow": null,
            "grid_auto_rows": null,
            "grid_column": null,
            "grid_gap": null,
            "grid_row": null,
            "grid_template_areas": null,
            "grid_template_columns": null,
            "grid_template_rows": null,
            "height": null,
            "justify_content": null,
            "justify_items": null,
            "left": null,
            "margin": null,
            "max_height": null,
            "max_width": null,
            "min_height": null,
            "min_width": null,
            "object_fit": null,
            "object_position": null,
            "order": null,
            "overflow": null,
            "overflow_x": null,
            "overflow_y": null,
            "padding": null,
            "right": null,
            "top": null,
            "visibility": null,
            "width": null
          }
        },
        "abf0c7a9b1e94722a8212606e061834a": {
          "model_module": "@jupyter-widgets/controls",
          "model_name": "DescriptionStyleModel",
          "model_module_version": "1.5.0",
          "state": {
            "_model_module": "@jupyter-widgets/controls",
            "_model_module_version": "1.5.0",
            "_model_name": "DescriptionStyleModel",
            "_view_count": null,
            "_view_module": "@jupyter-widgets/base",
            "_view_module_version": "1.2.0",
            "_view_name": "StyleView",
            "description_width": ""
          }
        },
        "2a19215ff9f44789966757b4fa41ef7d": {
          "model_module": "@jupyter-widgets/controls",
          "model_name": "HBoxModel",
          "model_module_version": "1.5.0",
          "state": {
            "_dom_classes": [],
            "_model_module": "@jupyter-widgets/controls",
            "_model_module_version": "1.5.0",
            "_model_name": "HBoxModel",
            "_view_count": null,
            "_view_module": "@jupyter-widgets/controls",
            "_view_module_version": "1.5.0",
            "_view_name": "HBoxView",
            "box_style": "",
            "children": [
              "IPY_MODEL_cb861038bc624a808896b82a4c221920",
              "IPY_MODEL_c54ed48744704538ab6d62e2d5c704b5",
              "IPY_MODEL_3e4adf8610964a7dadad241fb7e8a93f"
            ],
            "layout": "IPY_MODEL_07e4b57690434e2c905f85a81abfdb5b"
          }
        },
        "cb861038bc624a808896b82a4c221920": {
          "model_module": "@jupyter-widgets/controls",
          "model_name": "HTMLModel",
          "model_module_version": "1.5.0",
          "state": {
            "_dom_classes": [],
            "_model_module": "@jupyter-widgets/controls",
            "_model_module_version": "1.5.0",
            "_model_name": "HTMLModel",
            "_view_count": null,
            "_view_module": "@jupyter-widgets/controls",
            "_view_module_version": "1.5.0",
            "_view_name": "HTMLView",
            "description": "",
            "description_tooltip": null,
            "layout": "IPY_MODEL_744b5ffe30d24e54a1671821492267b0",
            "placeholder": "​",
            "style": "IPY_MODEL_156a19fb6f2b41aba7047ef376e58ea5",
            "value": "Generate report structure: 100%"
          }
        },
        "c54ed48744704538ab6d62e2d5c704b5": {
          "model_module": "@jupyter-widgets/controls",
          "model_name": "FloatProgressModel",
          "model_module_version": "1.5.0",
          "state": {
            "_dom_classes": [],
            "_model_module": "@jupyter-widgets/controls",
            "_model_module_version": "1.5.0",
            "_model_name": "FloatProgressModel",
            "_view_count": null,
            "_view_module": "@jupyter-widgets/controls",
            "_view_module_version": "1.5.0",
            "_view_name": "ProgressView",
            "bar_style": "success",
            "description": "",
            "description_tooltip": null,
            "layout": "IPY_MODEL_28ff93637a1e452ea2a475dc8b569785",
            "max": 1,
            "min": 0,
            "orientation": "horizontal",
            "style": "IPY_MODEL_e8203a0f20b84f5dba5fbaaa5c35224c",
            "value": 1
          }
        },
        "3e4adf8610964a7dadad241fb7e8a93f": {
          "model_module": "@jupyter-widgets/controls",
          "model_name": "HTMLModel",
          "model_module_version": "1.5.0",
          "state": {
            "_dom_classes": [],
            "_model_module": "@jupyter-widgets/controls",
            "_model_module_version": "1.5.0",
            "_model_name": "HTMLModel",
            "_view_count": null,
            "_view_module": "@jupyter-widgets/controls",
            "_view_module_version": "1.5.0",
            "_view_name": "HTMLView",
            "description": "",
            "description_tooltip": null,
            "layout": "IPY_MODEL_c866dd8b26bf409594e0fd8537a4a61f",
            "placeholder": "​",
            "style": "IPY_MODEL_eea79efe96a94dbd99f55555c061e155",
            "value": " 1/1 [00:06&lt;00:00,  6.55s/it]"
          }
        },
        "07e4b57690434e2c905f85a81abfdb5b": {
          "model_module": "@jupyter-widgets/base",
          "model_name": "LayoutModel",
          "model_module_version": "1.2.0",
          "state": {
            "_model_module": "@jupyter-widgets/base",
            "_model_module_version": "1.2.0",
            "_model_name": "LayoutModel",
            "_view_count": null,
            "_view_module": "@jupyter-widgets/base",
            "_view_module_version": "1.2.0",
            "_view_name": "LayoutView",
            "align_content": null,
            "align_items": null,
            "align_self": null,
            "border": null,
            "bottom": null,
            "display": null,
            "flex": null,
            "flex_flow": null,
            "grid_area": null,
            "grid_auto_columns": null,
            "grid_auto_flow": null,
            "grid_auto_rows": null,
            "grid_column": null,
            "grid_gap": null,
            "grid_row": null,
            "grid_template_areas": null,
            "grid_template_columns": null,
            "grid_template_rows": null,
            "height": null,
            "justify_content": null,
            "justify_items": null,
            "left": null,
            "margin": null,
            "max_height": null,
            "max_width": null,
            "min_height": null,
            "min_width": null,
            "object_fit": null,
            "object_position": null,
            "order": null,
            "overflow": null,
            "overflow_x": null,
            "overflow_y": null,
            "padding": null,
            "right": null,
            "top": null,
            "visibility": null,
            "width": null
          }
        },
        "744b5ffe30d24e54a1671821492267b0": {
          "model_module": "@jupyter-widgets/base",
          "model_name": "LayoutModel",
          "model_module_version": "1.2.0",
          "state": {
            "_model_module": "@jupyter-widgets/base",
            "_model_module_version": "1.2.0",
            "_model_name": "LayoutModel",
            "_view_count": null,
            "_view_module": "@jupyter-widgets/base",
            "_view_module_version": "1.2.0",
            "_view_name": "LayoutView",
            "align_content": null,
            "align_items": null,
            "align_self": null,
            "border": null,
            "bottom": null,
            "display": null,
            "flex": null,
            "flex_flow": null,
            "grid_area": null,
            "grid_auto_columns": null,
            "grid_auto_flow": null,
            "grid_auto_rows": null,
            "grid_column": null,
            "grid_gap": null,
            "grid_row": null,
            "grid_template_areas": null,
            "grid_template_columns": null,
            "grid_template_rows": null,
            "height": null,
            "justify_content": null,
            "justify_items": null,
            "left": null,
            "margin": null,
            "max_height": null,
            "max_width": null,
            "min_height": null,
            "min_width": null,
            "object_fit": null,
            "object_position": null,
            "order": null,
            "overflow": null,
            "overflow_x": null,
            "overflow_y": null,
            "padding": null,
            "right": null,
            "top": null,
            "visibility": null,
            "width": null
          }
        },
        "156a19fb6f2b41aba7047ef376e58ea5": {
          "model_module": "@jupyter-widgets/controls",
          "model_name": "DescriptionStyleModel",
          "model_module_version": "1.5.0",
          "state": {
            "_model_module": "@jupyter-widgets/controls",
            "_model_module_version": "1.5.0",
            "_model_name": "DescriptionStyleModel",
            "_view_count": null,
            "_view_module": "@jupyter-widgets/base",
            "_view_module_version": "1.2.0",
            "_view_name": "StyleView",
            "description_width": ""
          }
        },
        "28ff93637a1e452ea2a475dc8b569785": {
          "model_module": "@jupyter-widgets/base",
          "model_name": "LayoutModel",
          "model_module_version": "1.2.0",
          "state": {
            "_model_module": "@jupyter-widgets/base",
            "_model_module_version": "1.2.0",
            "_model_name": "LayoutModel",
            "_view_count": null,
            "_view_module": "@jupyter-widgets/base",
            "_view_module_version": "1.2.0",
            "_view_name": "LayoutView",
            "align_content": null,
            "align_items": null,
            "align_self": null,
            "border": null,
            "bottom": null,
            "display": null,
            "flex": null,
            "flex_flow": null,
            "grid_area": null,
            "grid_auto_columns": null,
            "grid_auto_flow": null,
            "grid_auto_rows": null,
            "grid_column": null,
            "grid_gap": null,
            "grid_row": null,
            "grid_template_areas": null,
            "grid_template_columns": null,
            "grid_template_rows": null,
            "height": null,
            "justify_content": null,
            "justify_items": null,
            "left": null,
            "margin": null,
            "max_height": null,
            "max_width": null,
            "min_height": null,
            "min_width": null,
            "object_fit": null,
            "object_position": null,
            "order": null,
            "overflow": null,
            "overflow_x": null,
            "overflow_y": null,
            "padding": null,
            "right": null,
            "top": null,
            "visibility": null,
            "width": null
          }
        },
        "e8203a0f20b84f5dba5fbaaa5c35224c": {
          "model_module": "@jupyter-widgets/controls",
          "model_name": "ProgressStyleModel",
          "model_module_version": "1.5.0",
          "state": {
            "_model_module": "@jupyter-widgets/controls",
            "_model_module_version": "1.5.0",
            "_model_name": "ProgressStyleModel",
            "_view_count": null,
            "_view_module": "@jupyter-widgets/base",
            "_view_module_version": "1.2.0",
            "_view_name": "StyleView",
            "bar_color": null,
            "description_width": ""
          }
        },
        "c866dd8b26bf409594e0fd8537a4a61f": {
          "model_module": "@jupyter-widgets/base",
          "model_name": "LayoutModel",
          "model_module_version": "1.2.0",
          "state": {
            "_model_module": "@jupyter-widgets/base",
            "_model_module_version": "1.2.0",
            "_model_name": "LayoutModel",
            "_view_count": null,
            "_view_module": "@jupyter-widgets/base",
            "_view_module_version": "1.2.0",
            "_view_name": "LayoutView",
            "align_content": null,
            "align_items": null,
            "align_self": null,
            "border": null,
            "bottom": null,
            "display": null,
            "flex": null,
            "flex_flow": null,
            "grid_area": null,
            "grid_auto_columns": null,
            "grid_auto_flow": null,
            "grid_auto_rows": null,
            "grid_column": null,
            "grid_gap": null,
            "grid_row": null,
            "grid_template_areas": null,
            "grid_template_columns": null,
            "grid_template_rows": null,
            "height": null,
            "justify_content": null,
            "justify_items": null,
            "left": null,
            "margin": null,
            "max_height": null,
            "max_width": null,
            "min_height": null,
            "min_width": null,
            "object_fit": null,
            "object_position": null,
            "order": null,
            "overflow": null,
            "overflow_x": null,
            "overflow_y": null,
            "padding": null,
            "right": null,
            "top": null,
            "visibility": null,
            "width": null
          }
        },
        "eea79efe96a94dbd99f55555c061e155": {
          "model_module": "@jupyter-widgets/controls",
          "model_name": "DescriptionStyleModel",
          "model_module_version": "1.5.0",
          "state": {
            "_model_module": "@jupyter-widgets/controls",
            "_model_module_version": "1.5.0",
            "_model_name": "DescriptionStyleModel",
            "_view_count": null,
            "_view_module": "@jupyter-widgets/base",
            "_view_module_version": "1.2.0",
            "_view_name": "StyleView",
            "description_width": ""
          }
        },
        "abc1b3328d1e483ca0aa69cb36ae5227": {
          "model_module": "@jupyter-widgets/controls",
          "model_name": "HBoxModel",
          "model_module_version": "1.5.0",
          "state": {
            "_dom_classes": [],
            "_model_module": "@jupyter-widgets/controls",
            "_model_module_version": "1.5.0",
            "_model_name": "HBoxModel",
            "_view_count": null,
            "_view_module": "@jupyter-widgets/controls",
            "_view_module_version": "1.5.0",
            "_view_name": "HBoxView",
            "box_style": "",
            "children": [
              "IPY_MODEL_e9c1ee50eb25494f9f2a21f8801c5db1",
              "IPY_MODEL_67f7a9363cf64c369d058906b17fe05d",
              "IPY_MODEL_b7159e82f30443719e71466bc82b217d"
            ],
            "layout": "IPY_MODEL_013eb031baae4268a0e59d99ccf6c233"
          }
        },
        "e9c1ee50eb25494f9f2a21f8801c5db1": {
          "model_module": "@jupyter-widgets/controls",
          "model_name": "HTMLModel",
          "model_module_version": "1.5.0",
          "state": {
            "_dom_classes": [],
            "_model_module": "@jupyter-widgets/controls",
            "_model_module_version": "1.5.0",
            "_model_name": "HTMLModel",
            "_view_count": null,
            "_view_module": "@jupyter-widgets/controls",
            "_view_module_version": "1.5.0",
            "_view_name": "HTMLView",
            "description": "",
            "description_tooltip": null,
            "layout": "IPY_MODEL_353513c6bb274e398defa67e555a9d2b",
            "placeholder": "​",
            "style": "IPY_MODEL_f7c12c871280405b9e00c3d3e9698206",
            "value": "Render HTML: 100%"
          }
        },
        "67f7a9363cf64c369d058906b17fe05d": {
          "model_module": "@jupyter-widgets/controls",
          "model_name": "FloatProgressModel",
          "model_module_version": "1.5.0",
          "state": {
            "_dom_classes": [],
            "_model_module": "@jupyter-widgets/controls",
            "_model_module_version": "1.5.0",
            "_model_name": "FloatProgressModel",
            "_view_count": null,
            "_view_module": "@jupyter-widgets/controls",
            "_view_module_version": "1.5.0",
            "_view_name": "ProgressView",
            "bar_style": "success",
            "description": "",
            "description_tooltip": null,
            "layout": "IPY_MODEL_5090b32e81434056bc238d8a13878c6a",
            "max": 1,
            "min": 0,
            "orientation": "horizontal",
            "style": "IPY_MODEL_069b618d912a4e979c6f3e95598505ed",
            "value": 1
          }
        },
        "b7159e82f30443719e71466bc82b217d": {
          "model_module": "@jupyter-widgets/controls",
          "model_name": "HTMLModel",
          "model_module_version": "1.5.0",
          "state": {
            "_dom_classes": [],
            "_model_module": "@jupyter-widgets/controls",
            "_model_module_version": "1.5.0",
            "_model_name": "HTMLModel",
            "_view_count": null,
            "_view_module": "@jupyter-widgets/controls",
            "_view_module_version": "1.5.0",
            "_view_name": "HTMLView",
            "description": "",
            "description_tooltip": null,
            "layout": "IPY_MODEL_93fe33ff9382482994cf3e66de98f5be",
            "placeholder": "​",
            "style": "IPY_MODEL_b8e0e5a057b44c31b167f415e19c140c",
            "value": " 1/1 [00:02&lt;00:00,  2.23s/it]"
          }
        },
        "013eb031baae4268a0e59d99ccf6c233": {
          "model_module": "@jupyter-widgets/base",
          "model_name": "LayoutModel",
          "model_module_version": "1.2.0",
          "state": {
            "_model_module": "@jupyter-widgets/base",
            "_model_module_version": "1.2.0",
            "_model_name": "LayoutModel",
            "_view_count": null,
            "_view_module": "@jupyter-widgets/base",
            "_view_module_version": "1.2.0",
            "_view_name": "LayoutView",
            "align_content": null,
            "align_items": null,
            "align_self": null,
            "border": null,
            "bottom": null,
            "display": null,
            "flex": null,
            "flex_flow": null,
            "grid_area": null,
            "grid_auto_columns": null,
            "grid_auto_flow": null,
            "grid_auto_rows": null,
            "grid_column": null,
            "grid_gap": null,
            "grid_row": null,
            "grid_template_areas": null,
            "grid_template_columns": null,
            "grid_template_rows": null,
            "height": null,
            "justify_content": null,
            "justify_items": null,
            "left": null,
            "margin": null,
            "max_height": null,
            "max_width": null,
            "min_height": null,
            "min_width": null,
            "object_fit": null,
            "object_position": null,
            "order": null,
            "overflow": null,
            "overflow_x": null,
            "overflow_y": null,
            "padding": null,
            "right": null,
            "top": null,
            "visibility": null,
            "width": null
          }
        },
        "353513c6bb274e398defa67e555a9d2b": {
          "model_module": "@jupyter-widgets/base",
          "model_name": "LayoutModel",
          "model_module_version": "1.2.0",
          "state": {
            "_model_module": "@jupyter-widgets/base",
            "_model_module_version": "1.2.0",
            "_model_name": "LayoutModel",
            "_view_count": null,
            "_view_module": "@jupyter-widgets/base",
            "_view_module_version": "1.2.0",
            "_view_name": "LayoutView",
            "align_content": null,
            "align_items": null,
            "align_self": null,
            "border": null,
            "bottom": null,
            "display": null,
            "flex": null,
            "flex_flow": null,
            "grid_area": null,
            "grid_auto_columns": null,
            "grid_auto_flow": null,
            "grid_auto_rows": null,
            "grid_column": null,
            "grid_gap": null,
            "grid_row": null,
            "grid_template_areas": null,
            "grid_template_columns": null,
            "grid_template_rows": null,
            "height": null,
            "justify_content": null,
            "justify_items": null,
            "left": null,
            "margin": null,
            "max_height": null,
            "max_width": null,
            "min_height": null,
            "min_width": null,
            "object_fit": null,
            "object_position": null,
            "order": null,
            "overflow": null,
            "overflow_x": null,
            "overflow_y": null,
            "padding": null,
            "right": null,
            "top": null,
            "visibility": null,
            "width": null
          }
        },
        "f7c12c871280405b9e00c3d3e9698206": {
          "model_module": "@jupyter-widgets/controls",
          "model_name": "DescriptionStyleModel",
          "model_module_version": "1.5.0",
          "state": {
            "_model_module": "@jupyter-widgets/controls",
            "_model_module_version": "1.5.0",
            "_model_name": "DescriptionStyleModel",
            "_view_count": null,
            "_view_module": "@jupyter-widgets/base",
            "_view_module_version": "1.2.0",
            "_view_name": "StyleView",
            "description_width": ""
          }
        },
        "5090b32e81434056bc238d8a13878c6a": {
          "model_module": "@jupyter-widgets/base",
          "model_name": "LayoutModel",
          "model_module_version": "1.2.0",
          "state": {
            "_model_module": "@jupyter-widgets/base",
            "_model_module_version": "1.2.0",
            "_model_name": "LayoutModel",
            "_view_count": null,
            "_view_module": "@jupyter-widgets/base",
            "_view_module_version": "1.2.0",
            "_view_name": "LayoutView",
            "align_content": null,
            "align_items": null,
            "align_self": null,
            "border": null,
            "bottom": null,
            "display": null,
            "flex": null,
            "flex_flow": null,
            "grid_area": null,
            "grid_auto_columns": null,
            "grid_auto_flow": null,
            "grid_auto_rows": null,
            "grid_column": null,
            "grid_gap": null,
            "grid_row": null,
            "grid_template_areas": null,
            "grid_template_columns": null,
            "grid_template_rows": null,
            "height": null,
            "justify_content": null,
            "justify_items": null,
            "left": null,
            "margin": null,
            "max_height": null,
            "max_width": null,
            "min_height": null,
            "min_width": null,
            "object_fit": null,
            "object_position": null,
            "order": null,
            "overflow": null,
            "overflow_x": null,
            "overflow_y": null,
            "padding": null,
            "right": null,
            "top": null,
            "visibility": null,
            "width": null
          }
        },
        "069b618d912a4e979c6f3e95598505ed": {
          "model_module": "@jupyter-widgets/controls",
          "model_name": "ProgressStyleModel",
          "model_module_version": "1.5.0",
          "state": {
            "_model_module": "@jupyter-widgets/controls",
            "_model_module_version": "1.5.0",
            "_model_name": "ProgressStyleModel",
            "_view_count": null,
            "_view_module": "@jupyter-widgets/base",
            "_view_module_version": "1.2.0",
            "_view_name": "StyleView",
            "bar_color": null,
            "description_width": ""
          }
        },
        "93fe33ff9382482994cf3e66de98f5be": {
          "model_module": "@jupyter-widgets/base",
          "model_name": "LayoutModel",
          "model_module_version": "1.2.0",
          "state": {
            "_model_module": "@jupyter-widgets/base",
            "_model_module_version": "1.2.0",
            "_model_name": "LayoutModel",
            "_view_count": null,
            "_view_module": "@jupyter-widgets/base",
            "_view_module_version": "1.2.0",
            "_view_name": "LayoutView",
            "align_content": null,
            "align_items": null,
            "align_self": null,
            "border": null,
            "bottom": null,
            "display": null,
            "flex": null,
            "flex_flow": null,
            "grid_area": null,
            "grid_auto_columns": null,
            "grid_auto_flow": null,
            "grid_auto_rows": null,
            "grid_column": null,
            "grid_gap": null,
            "grid_row": null,
            "grid_template_areas": null,
            "grid_template_columns": null,
            "grid_template_rows": null,
            "height": null,
            "justify_content": null,
            "justify_items": null,
            "left": null,
            "margin": null,
            "max_height": null,
            "max_width": null,
            "min_height": null,
            "min_width": null,
            "object_fit": null,
            "object_position": null,
            "order": null,
            "overflow": null,
            "overflow_x": null,
            "overflow_y": null,
            "padding": null,
            "right": null,
            "top": null,
            "visibility": null,
            "width": null
          }
        },
        "b8e0e5a057b44c31b167f415e19c140c": {
          "model_module": "@jupyter-widgets/controls",
          "model_name": "DescriptionStyleModel",
          "model_module_version": "1.5.0",
          "state": {
            "_model_module": "@jupyter-widgets/controls",
            "_model_module_version": "1.5.0",
            "_model_name": "DescriptionStyleModel",
            "_view_count": null,
            "_view_module": "@jupyter-widgets/base",
            "_view_module_version": "1.2.0",
            "_view_name": "StyleView",
            "description_width": ""
          }
        },
        "95d45dbe2f92473c8abd47af405162b8": {
          "model_module": "@jupyter-widgets/controls",
          "model_name": "HBoxModel",
          "model_module_version": "1.5.0",
          "state": {
            "_dom_classes": [],
            "_model_module": "@jupyter-widgets/controls",
            "_model_module_version": "1.5.0",
            "_model_name": "HBoxModel",
            "_view_count": null,
            "_view_module": "@jupyter-widgets/controls",
            "_view_module_version": "1.5.0",
            "_view_name": "HBoxView",
            "box_style": "",
            "children": [
              "IPY_MODEL_82b53f727f1b46b69616e391cf875fcb",
              "IPY_MODEL_c1370f9d45fd461797cdf960fde0c69d",
              "IPY_MODEL_c9915fc0368f4c5ba51488a0bf8c8464"
            ],
            "layout": "IPY_MODEL_449ef19f25d244d2bb84c509729065e9"
          }
        },
        "82b53f727f1b46b69616e391cf875fcb": {
          "model_module": "@jupyter-widgets/controls",
          "model_name": "HTMLModel",
          "model_module_version": "1.5.0",
          "state": {
            "_dom_classes": [],
            "_model_module": "@jupyter-widgets/controls",
            "_model_module_version": "1.5.0",
            "_model_name": "HTMLModel",
            "_view_count": null,
            "_view_module": "@jupyter-widgets/controls",
            "_view_module_version": "1.5.0",
            "_view_name": "HTMLView",
            "description": "",
            "description_tooltip": null,
            "layout": "IPY_MODEL_2f798dbfcd80409abd0ddd3893fac0b5",
            "placeholder": "​",
            "style": "IPY_MODEL_051868bfe1b64100bd127d09142f32ea",
            "value": "Export report to file: 100%"
          }
        },
        "c1370f9d45fd461797cdf960fde0c69d": {
          "model_module": "@jupyter-widgets/controls",
          "model_name": "FloatProgressModel",
          "model_module_version": "1.5.0",
          "state": {
            "_dom_classes": [],
            "_model_module": "@jupyter-widgets/controls",
            "_model_module_version": "1.5.0",
            "_model_name": "FloatProgressModel",
            "_view_count": null,
            "_view_module": "@jupyter-widgets/controls",
            "_view_module_version": "1.5.0",
            "_view_name": "ProgressView",
            "bar_style": "success",
            "description": "",
            "description_tooltip": null,
            "layout": "IPY_MODEL_68c4a5708a84462293902796aa20416c",
            "max": 1,
            "min": 0,
            "orientation": "horizontal",
            "style": "IPY_MODEL_2ca17f13568949f0b68a94fbd756dd11",
            "value": 1
          }
        },
        "c9915fc0368f4c5ba51488a0bf8c8464": {
          "model_module": "@jupyter-widgets/controls",
          "model_name": "HTMLModel",
          "model_module_version": "1.5.0",
          "state": {
            "_dom_classes": [],
            "_model_module": "@jupyter-widgets/controls",
            "_model_module_version": "1.5.0",
            "_model_name": "HTMLModel",
            "_view_count": null,
            "_view_module": "@jupyter-widgets/controls",
            "_view_module_version": "1.5.0",
            "_view_name": "HTMLView",
            "description": "",
            "description_tooltip": null,
            "layout": "IPY_MODEL_4c49bc05fc134c649faa2c2923d00857",
            "placeholder": "​",
            "style": "IPY_MODEL_927a0f626efc4ff0ac3eafb47b155ec0",
            "value": " 1/1 [00:00&lt;00:00, 17.33it/s]"
          }
        },
        "449ef19f25d244d2bb84c509729065e9": {
          "model_module": "@jupyter-widgets/base",
          "model_name": "LayoutModel",
          "model_module_version": "1.2.0",
          "state": {
            "_model_module": "@jupyter-widgets/base",
            "_model_module_version": "1.2.0",
            "_model_name": "LayoutModel",
            "_view_count": null,
            "_view_module": "@jupyter-widgets/base",
            "_view_module_version": "1.2.0",
            "_view_name": "LayoutView",
            "align_content": null,
            "align_items": null,
            "align_self": null,
            "border": null,
            "bottom": null,
            "display": null,
            "flex": null,
            "flex_flow": null,
            "grid_area": null,
            "grid_auto_columns": null,
            "grid_auto_flow": null,
            "grid_auto_rows": null,
            "grid_column": null,
            "grid_gap": null,
            "grid_row": null,
            "grid_template_areas": null,
            "grid_template_columns": null,
            "grid_template_rows": null,
            "height": null,
            "justify_content": null,
            "justify_items": null,
            "left": null,
            "margin": null,
            "max_height": null,
            "max_width": null,
            "min_height": null,
            "min_width": null,
            "object_fit": null,
            "object_position": null,
            "order": null,
            "overflow": null,
            "overflow_x": null,
            "overflow_y": null,
            "padding": null,
            "right": null,
            "top": null,
            "visibility": null,
            "width": null
          }
        },
        "2f798dbfcd80409abd0ddd3893fac0b5": {
          "model_module": "@jupyter-widgets/base",
          "model_name": "LayoutModel",
          "model_module_version": "1.2.0",
          "state": {
            "_model_module": "@jupyter-widgets/base",
            "_model_module_version": "1.2.0",
            "_model_name": "LayoutModel",
            "_view_count": null,
            "_view_module": "@jupyter-widgets/base",
            "_view_module_version": "1.2.0",
            "_view_name": "LayoutView",
            "align_content": null,
            "align_items": null,
            "align_self": null,
            "border": null,
            "bottom": null,
            "display": null,
            "flex": null,
            "flex_flow": null,
            "grid_area": null,
            "grid_auto_columns": null,
            "grid_auto_flow": null,
            "grid_auto_rows": null,
            "grid_column": null,
            "grid_gap": null,
            "grid_row": null,
            "grid_template_areas": null,
            "grid_template_columns": null,
            "grid_template_rows": null,
            "height": null,
            "justify_content": null,
            "justify_items": null,
            "left": null,
            "margin": null,
            "max_height": null,
            "max_width": null,
            "min_height": null,
            "min_width": null,
            "object_fit": null,
            "object_position": null,
            "order": null,
            "overflow": null,
            "overflow_x": null,
            "overflow_y": null,
            "padding": null,
            "right": null,
            "top": null,
            "visibility": null,
            "width": null
          }
        },
        "051868bfe1b64100bd127d09142f32ea": {
          "model_module": "@jupyter-widgets/controls",
          "model_name": "DescriptionStyleModel",
          "model_module_version": "1.5.0",
          "state": {
            "_model_module": "@jupyter-widgets/controls",
            "_model_module_version": "1.5.0",
            "_model_name": "DescriptionStyleModel",
            "_view_count": null,
            "_view_module": "@jupyter-widgets/base",
            "_view_module_version": "1.2.0",
            "_view_name": "StyleView",
            "description_width": ""
          }
        },
        "68c4a5708a84462293902796aa20416c": {
          "model_module": "@jupyter-widgets/base",
          "model_name": "LayoutModel",
          "model_module_version": "1.2.0",
          "state": {
            "_model_module": "@jupyter-widgets/base",
            "_model_module_version": "1.2.0",
            "_model_name": "LayoutModel",
            "_view_count": null,
            "_view_module": "@jupyter-widgets/base",
            "_view_module_version": "1.2.0",
            "_view_name": "LayoutView",
            "align_content": null,
            "align_items": null,
            "align_self": null,
            "border": null,
            "bottom": null,
            "display": null,
            "flex": null,
            "flex_flow": null,
            "grid_area": null,
            "grid_auto_columns": null,
            "grid_auto_flow": null,
            "grid_auto_rows": null,
            "grid_column": null,
            "grid_gap": null,
            "grid_row": null,
            "grid_template_areas": null,
            "grid_template_columns": null,
            "grid_template_rows": null,
            "height": null,
            "justify_content": null,
            "justify_items": null,
            "left": null,
            "margin": null,
            "max_height": null,
            "max_width": null,
            "min_height": null,
            "min_width": null,
            "object_fit": null,
            "object_position": null,
            "order": null,
            "overflow": null,
            "overflow_x": null,
            "overflow_y": null,
            "padding": null,
            "right": null,
            "top": null,
            "visibility": null,
            "width": null
          }
        },
        "2ca17f13568949f0b68a94fbd756dd11": {
          "model_module": "@jupyter-widgets/controls",
          "model_name": "ProgressStyleModel",
          "model_module_version": "1.5.0",
          "state": {
            "_model_module": "@jupyter-widgets/controls",
            "_model_module_version": "1.5.0",
            "_model_name": "ProgressStyleModel",
            "_view_count": null,
            "_view_module": "@jupyter-widgets/base",
            "_view_module_version": "1.2.0",
            "_view_name": "StyleView",
            "bar_color": null,
            "description_width": ""
          }
        },
        "4c49bc05fc134c649faa2c2923d00857": {
          "model_module": "@jupyter-widgets/base",
          "model_name": "LayoutModel",
          "model_module_version": "1.2.0",
          "state": {
            "_model_module": "@jupyter-widgets/base",
            "_model_module_version": "1.2.0",
            "_model_name": "LayoutModel",
            "_view_count": null,
            "_view_module": "@jupyter-widgets/base",
            "_view_module_version": "1.2.0",
            "_view_name": "LayoutView",
            "align_content": null,
            "align_items": null,
            "align_self": null,
            "border": null,
            "bottom": null,
            "display": null,
            "flex": null,
            "flex_flow": null,
            "grid_area": null,
            "grid_auto_columns": null,
            "grid_auto_flow": null,
            "grid_auto_rows": null,
            "grid_column": null,
            "grid_gap": null,
            "grid_row": null,
            "grid_template_areas": null,
            "grid_template_columns": null,
            "grid_template_rows": null,
            "height": null,
            "justify_content": null,
            "justify_items": null,
            "left": null,
            "margin": null,
            "max_height": null,
            "max_width": null,
            "min_height": null,
            "min_width": null,
            "object_fit": null,
            "object_position": null,
            "order": null,
            "overflow": null,
            "overflow_x": null,
            "overflow_y": null,
            "padding": null,
            "right": null,
            "top": null,
            "visibility": null,
            "width": null
          }
        },
        "927a0f626efc4ff0ac3eafb47b155ec0": {
          "model_module": "@jupyter-widgets/controls",
          "model_name": "DescriptionStyleModel",
          "model_module_version": "1.5.0",
          "state": {
            "_model_module": "@jupyter-widgets/controls",
            "_model_module_version": "1.5.0",
            "_model_name": "DescriptionStyleModel",
            "_view_count": null,
            "_view_module": "@jupyter-widgets/base",
            "_view_module_version": "1.2.0",
            "_view_name": "StyleView",
            "description_width": ""
          }
        }
      }
    }
  },
  "nbformat": 4,
  "nbformat_minor": 5
}